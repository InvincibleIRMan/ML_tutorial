{
 "cells": [
  {
   "cell_type": "markdown",
   "id": "32d3f5f2",
   "metadata": {},
   "source": [
    "# Dealing with class imbalance\n",
    "\n",
    "Class imbalance is a major problem in any __\"real-world\"__ classification task.\n",
    "\n",
    "Assume you are dealing with classifying violence vs non-violence scenarios from video sequences streaming from a security camera, and the task of this camera is to identify __violence__ vs __non-Violence__ scenarios. We all know that \n",
    "$99.9\\%$ of the time, security camera record the \"normal\" (non-violence) scenarios while detecting \"violence\" behavior can be considered as a rare event.\n",
    "\n",
    "Similarly in the medical diagnosis use case for a rare disease, in this case we generally dealing with highly \"imbalance\" samples.\n",
    "\n",
    "In this tutorial you will learn about:\n",
    "    \n",
    "    1. Effect of class imbalance on your model training\n",
    "    2. Two major techniques to deal with the class imbalance:\n",
    "        a. Oversampling\n",
    "        b. Penalization\n",
    "        c. Oversampling + Penalization\n",
    "    3. Metrics to effectly monitor your training procedure.\n",
    "\n",
    "In this tutorial similar to the provious one we will work with the Malaria Dataset. However, to simulate the class imbalance we extract a subset from the dataset such that the ratio between the positive class \"infected\" and negative class \"uninfected\" is 100/1000 for training and 10/90 for the validation set."
   ]
  },
  {
   "cell_type": "markdown",
   "id": "54f1e607",
   "metadata": {},
   "source": [
    "# Steps to establish a machine learning pipeline for this tutorial\n",
    "1. Dataloading and shaping an imbalance dataset\n",
    "2. Torch ready data prepration\n",
    "3. Model definition\n",
    "4. Optimizer and loss definition\n",
    "5. Training and validation"
   ]
  },
  {
   "cell_type": "code",
   "execution_count": 33,
   "id": "d2917553",
   "metadata": {},
   "outputs": [],
   "source": [
    "import torch\n",
    "import os\n",
    "import pandas as pd\n",
    "import numpy as np\n",
    "\n",
    "\n",
    "from monai.data import DataLoader, Dataset\n",
    "from torch.utils.data.sampler import WeightedRandomSampler\n",
    "target = df_train['label'].to_numpy()\n",
    "from monai.transforms import (\n",
    "    Compose,\n",
    "    LoadImaged, \n",
    "    AddChanneld, \n",
    "    RandFlipd, \n",
    "    RandRotate90d, \n",
    "    Resized, \n",
    "    EnsureChannelFirstd,\n",
    "    RandGaussianNoised,\n",
    "    ToTensord\n",
    "    )\n",
    "import torch.optim as optim\n",
    "import torch.nn as nn"
   ]
  },
  {
   "cell_type": "markdown",
   "id": "de7b9d09",
   "metadata": {},
   "source": [
    "## Dataloading and creating an imbalance dataset"
   ]
  },
  {
   "cell_type": "code",
   "execution_count": 54,
   "id": "4a69212f",
   "metadata": {},
   "outputs": [
    {
     "name": "stdout",
     "output_type": "stream",
     "text": [
      "number of infected samples is 13780 and number of unifected is 13780\n",
      "number of train samples is 1000 and number of test is 100\n"
     ]
    }
   ],
   "source": [
    "root_dir = '/Users/sadeghmh/Desktop/Projects/data/cell_images/'\n",
    "infected_name = 'Parasitized'\n",
    "uninfected_name = 'Uninfected'\n",
    "df_infected = pd.DataFrame({'image_name':os.listdir(os.path.join(root_dir,infected_name)), \n",
    "                          'folder_name': [infected_name for _ in range(len(os.listdir(os.path.join(root_dir,infected_name))))],\n",
    "                         'label': [1 for _ in range(len(os.listdir(os.path.join(root_dir,infected_name))))]})\n",
    "\n",
    "df_uninfected = pd.DataFrame({'image_name':os.listdir(os.path.join(root_dir,uninfected_name)), \n",
    "                            'folder_name': [uninfected_name for _ in range(len(os.listdir(os.path.join(root_dir,uninfected_name))))],\n",
    "                             'label': [0 for _ in range(len(os.listdir(os.path.join(root_dir,uninfected_name))))]})\n",
    "\n",
    "# select the subset of the data\n",
    "df_infected_sample = df_infected.sample(n=100, random_state=42).reset_index()\n",
    "df_uninfected_sample = df_uninfected.sample(n= 1000, random_state=42).reset_index()\n",
    "\n",
    "# Create the train/test split\n",
    "# train\n",
    "df_infected_train = df_infected_sample.loc[0:89]\n",
    "df_uninfected_train = df_uninfected_sample.loc[0:909]\n",
    "df_list = [df_infected_train, df_uninfected_train]\n",
    "df_train = pd.concat(df_list).reset_index()\n",
    "# test\n",
    "df_infected_test = df_infected_sample.loc[90:]\n",
    "df_uninfected_test = df_uninfected_sample.loc[910:]\n",
    "\n",
    "df_list = [df_infected_test, df_uninfected_test]\n",
    "df_val = pd.concat(df_list).reset_index()\n",
    "\n",
    "\n",
    "print('number of infected samples is {} and number of unifected is {}'.format(len(df_infected), len(df_uninfected)))\n",
    "print('number of train samples is {} and number of test is {}'.format(len(df_train), len(df_val)))\n",
    "\n"
   ]
  },
  {
   "cell_type": "code",
   "execution_count": 55,
   "id": "3faba3f9",
   "metadata": {},
   "outputs": [
    {
     "name": "stdout",
     "output_type": "stream",
     "text": [
      "90 910\n"
     ]
    }
   ],
   "source": [
    "num_infected = len(df_train[df_train['label'] == 1])\n",
    "num_uninfected = len(df_train[df_train['label'] == 0])\n",
    "df_num = pd.DataFrame({in})\n",
    "print(num_infected, num_uninfected)"
   ]
  },
  {
   "cell_type": "code",
   "execution_count": 35,
   "id": "470d9d80",
   "metadata": {},
   "outputs": [],
   "source": [
    "target = df_train['label'].to_numpy()\n",
    "class_sample_count = np.array(\n",
    "    [len(np.where(target == t)[0]) for t in np.unique(target)])\n",
    "weight = 1. / class_sample_count\n",
    "samples_weight = np.array([weight[t] for t in target])\n",
    "samples_weight = torch.from_numpy(samples_weight)\n",
    "samples_weigth = samples_weight.double()\n",
    "sampler = WeightedRandomSampler(samples_weight, len(samples_weight))"
   ]
  },
  {
   "cell_type": "code",
   "execution_count": 30,
   "id": "f3e56e2c",
   "metadata": {},
   "outputs": [],
   "source": [
    "target = df_train['label'].to_numpy()"
   ]
  },
  {
   "cell_type": "markdown",
   "id": "bc886626",
   "metadata": {},
   "source": [
    "## Helper function to shape the training and validation set in an acceptable Monai format"
   ]
  },
  {
   "cell_type": "code",
   "execution_count": 6,
   "id": "b89b8762",
   "metadata": {},
   "outputs": [],
   "source": [
    "def list2dict(df):\n",
    "    data_dict = {}\n",
    "    list_of_dict = []\n",
    "    for i in range(0,len(df)):\n",
    "        #data_dict['image'] = os.path.join(root_dir,df.iloc[i,1],df.iloc[i,0])\n",
    "        data_dict['image'] = os.path.join(root_dir,df['folder_name'][i],df['image_name'][i])\n",
    "        data_dict['label'] = df['label'][i]\n",
    "        list_of_dict.append(data_dict.copy())\n",
    "    return list_of_dict\n",
    "data_train = list2dict(df_train)\n",
    "data_val = list2dict(df_val)"
   ]
  },
  {
   "cell_type": "code",
   "execution_count": null,
   "id": "722b93d5",
   "metadata": {},
   "outputs": [],
   "source": []
  },
  {
   "cell_type": "markdown",
   "id": "68940bd8",
   "metadata": {},
   "source": [
    "### Torch ready dataprepration"
   ]
  },
  {
   "cell_type": "code",
   "execution_count": 36,
   "id": "c4ca23f6",
   "metadata": {},
   "outputs": [
    {
     "data": {
      "text/plain": [
       "(1000, 100)"
      ]
     },
     "execution_count": 36,
     "metadata": {},
     "output_type": "execute_result"
    }
   ],
   "source": [
    "\n",
    "\n",
    "train_transforms = Compose(\n",
    "    [\n",
    "        LoadImaged(keys=[\"image\"]),\n",
    "        EnsureChannelFirstd(keys=[\"image\"]),\n",
    "        Resized(keys=[\"image\"],spatial_size=(224,224)),\n",
    "        RandFlipd(keys=[\"image\"], prob=0.5),\n",
    "        RandRotate90d(keys=[\"image\"], prob=0.5),\n",
    "        RandGaussianNoised(keys=[\"image\"], prob=0.2),\n",
    "        ToTensord(keys=[\"image\"])\n",
    "])\n",
    "\n",
    "val_transforms = Compose(\n",
    "    [\n",
    "        LoadImaged(keys=[\"image\"]),\n",
    "        EnsureChannelFirstd(keys=[\"image\"]),\n",
    "        Resized(keys=[\"image\"],spatial_size=(224,224)),\n",
    "        ToTensord(keys=[\"image\"])\n",
    "])\n",
    "\n",
    "ds_tr = Dataset(data=data_train,transform= train_transforms) # create dataset\n",
    "ds_tr_loader = DataLoader(ds_tr, batch_size=100, sampler =sampler)\n",
    "\n",
    "ds_val = Dataset(data=data_val,transform= val_transforms) # create dataset\n",
    "ds_val_loader = DataLoader(ds_val, batch_size=100)\n",
    "\n",
    "len(ds_tr), len(ds_val) "
   ]
  },
  {
   "cell_type": "code",
   "execution_count": 38,
   "id": "64f9af64",
   "metadata": {},
   "outputs": [
    {
     "name": "stdout",
     "output_type": "stream",
     "text": [
      "batch index 0, 0/1: 45/55\n",
      "batch index 1, 0/1: 50/50\n",
      "batch index 2, 0/1: 45/55\n",
      "batch index 3, 0/1: 52/48\n",
      "batch index 4, 0/1: 43/57\n",
      "batch index 5, 0/1: 47/53\n",
      "batch index 6, 0/1: 60/40\n",
      "batch index 7, 0/1: 44/56\n",
      "batch index 8, 0/1: 42/58\n",
      "batch index 9, 0/1: 59/41\n"
     ]
    }
   ],
   "source": [
    "for i, batch in enumerate(ds_tr_loader):\n",
    "    target = batch['label']\n",
    "    print (\"batch index {}, 0/1: {}/{}\".format(\n",
    "        i,\n",
    "        len(np.where(target.numpy() == 0)[0]),\n",
    "        len(np.where(target.numpy() == 1)[0])))"
   ]
  },
  {
   "cell_type": "markdown",
   "id": "9c61d6be",
   "metadata": {},
   "source": [
    "# Define model, we use Resnet 50 for this purpose!"
   ]
  },
  {
   "cell_type": "code",
   "execution_count": 39,
   "id": "ac412df1",
   "metadata": {},
   "outputs": [
    {
     "name": "stderr",
     "output_type": "stream",
     "text": [
      "Using cache found in /Users/sadeghmh/.cache/torch/hub/pytorch_vision_v0.9.0\n"
     ]
    },
    {
     "name": "stdout",
     "output_type": "stream",
     "text": [
      "\n"
     ]
    }
   ],
   "source": [
    "net = torch.hub.load('pytorch/vision:v0.9.0', 'resnet50', pretrained=True)\n",
    "net.fc = nn.Linear(in_features=2048, out_features=2) # only last year needed to be replace\n",
    "\n",
    "device = torch.device(\"cuda\" if torch.cuda.is_available() else \"cpu\")\n",
    "net.to(device)\n",
    "print()"
   ]
  },
  {
   "cell_type": "markdown",
   "id": "6de3acda",
   "metadata": {},
   "source": [
    "## Define Optimizer and loss function"
   ]
  },
  {
   "cell_type": "code",
   "execution_count": 40,
   "id": "38a729fe",
   "metadata": {},
   "outputs": [],
   "source": [
    "optimizer = optim.Adam(net.parameters(), lr = 0.001)\n",
    "criterion = nn.CrossEntropyLoss()"
   ]
  },
  {
   "cell_type": "code",
   "execution_count": null,
   "id": "551227c4",
   "metadata": {},
   "outputs": [],
   "source": []
  },
  {
   "cell_type": "markdown",
   "id": "edb3f8a6",
   "metadata": {},
   "source": [
    "# training/validation"
   ]
  },
  {
   "cell_type": "code",
   "execution_count": 44,
   "id": "c6090e93",
   "metadata": {},
   "outputs": [
    {
     "name": "stdout",
     "output_type": "stream",
     "text": [
      "run\n",
      "run\n",
      "run\n",
      "run\n",
      "run\n",
      "run\n",
      "run\n",
      "run\n",
      "run\n",
      "run\n",
      "training Phase: epoch: 0 Loss: 0.1621 Acc: 0.9510 AUC: 0.9508\n"
     ]
    },
    {
     "ename": "TypeError",
     "evalue": "unsupported format string passed to list.__format__",
     "output_type": "error",
     "traceback": [
      "\u001b[0;31m---------------------------------------------------------------------------\u001b[0m",
      "\u001b[0;31mTypeError\u001b[0m                                 Traceback (most recent call last)",
      "\u001b[0;32m<ipython-input-44-8115499a343f>\u001b[0m in \u001b[0;36m<module>\u001b[0;34m\u001b[0m\n\u001b[1;32m     66\u001b[0m     \u001b[0mauc_val\u001b[0m\u001b[0;34m.\u001b[0m\u001b[0mappend\u001b[0m\u001b[0;34m(\u001b[0m\u001b[0mAUC\u001b[0m\u001b[0;34m)\u001b[0m\u001b[0;34m\u001b[0m\u001b[0;34m\u001b[0m\u001b[0m\n\u001b[1;32m     67\u001b[0m     \u001b[0maccuracy_val\u001b[0m\u001b[0;34m.\u001b[0m\u001b[0mappend\u001b[0m\u001b[0;34m(\u001b[0m\u001b[0mAcc\u001b[0m\u001b[0;34m)\u001b[0m\u001b[0;34m\u001b[0m\u001b[0;34m\u001b[0m\u001b[0m\n\u001b[0;32m---> 68\u001b[0;31m     print('training Phase: epoch: {} Loss: {:.4f} Acc: {:.4f} AUC: {:.4f}'.format(\n\u001b[0m\u001b[1;32m     69\u001b[0m                 epoch , epoch_loss, accuracy_val, auc_val))\n\u001b[1;32m     70\u001b[0m \u001b[0;34m\u001b[0m\u001b[0m\n",
      "\u001b[0;31mTypeError\u001b[0m: unsupported format string passed to list.__format__"
     ]
    }
   ],
   "source": [
    "\n",
    "from sklearn.metrics import accuracy_score\n",
    "from sklearn.metrics import roc_curve, auc\n",
    "net.train()\n",
    "\n",
    "tracker = dict()\n",
    "accuracy_tr = list()\n",
    "loss_tr = list()\n",
    "accuracy_val = list()\n",
    "loss_val = list()\n",
    "auc_tr = list()\n",
    "auc_val = list()\n",
    "\n",
    "epochs = 10\n",
    "for epoch in range(epochs):\n",
    "    pred_iter = list()\n",
    "    target_iter = list()\n",
    "    accuracy_tr_iter = list()\n",
    "    running_loss_tr = 0\n",
    "    total_data_tr = 0\n",
    "    running_loss_te = 0\n",
    "    total_data_te = 0\n",
    "    for i, batch in enumerate(ds_tr_loader):\n",
    "        data = batch['image'].to(device)\n",
    "        target = batch['label'].to(device)\n",
    "        outputs = net(data)\n",
    "        _,preds = torch.max(outputs,1)\n",
    "        optimizer.zero_grad()\n",
    "        loss = criterion(outputs, target)\n",
    "\n",
    "        loss.backward()\n",
    "        optimizer.step()\n",
    "        \n",
    "        pred_iter.extend(preds.cpu().numpy())\n",
    "        target_iter.extend(target.cpu().numpy())\n",
    "        running_loss_tr += loss.item() * data.size(0)\n",
    "        total_data_tr += data.size(0)\n",
    "    \n",
    "    epoch_loss = running_loss_tr / total_data_tr\n",
    "    loss_tr.append(epoch_loss)\n",
    "    \n",
    "    fpr, tpr, thresholds = roc_curve(target_iter, pred_iter)\n",
    "    AUC = auc(fpr, tpr)\n",
    "    ACC = accuracy_score(target_iter,pred_iter)\n",
    "    auc_tr.append(AUC)\n",
    "    accuracy_tr.append(ACC)\n",
    "    \n",
    "    print('training Phase: epoch: {} Loss: {:.4f} Acc: {:.4f} AUC: {:.4f}'.format(\n",
    "                epoch , epoch_loss, ACC, AUC))\n",
    "    net.eval()\n",
    "    for i, batch in enumerate(ds_val_loader):\n",
    "        data = batch['image'].to(device)\n",
    "        target = batch['label'].to(device)\n",
    "        outputs = net(data)\n",
    "        _,preds = torch.max(outputs,1)\n",
    "        loss = criterion(outputs, target)\n",
    "        \n",
    "        running_loss_te += loss.item() * data.size(0)\n",
    "        total_data_te += data.size(0)\n",
    "    epoch_loss = running_loss_te / total_data_te\n",
    "    loss_val.append(epoch_loss)\n",
    "    \n",
    "    fpr, tpr, thresholds = roc_curve(target.cpu().numpy(), preds.cpu().numpy())\n",
    "    AUC = auc(fpr, tpr)\n",
    "    Acc = accuracy_score(target,preds)\n",
    "    auc_val.append(AUC)\n",
    "    accuracy_val.append(Acc)\n",
    "    print('validation Phase: epoch: {} Loss: {:.2f} Acc: {:.2f} AUC: {:.2f}'.format(\n",
    "                epoch , epoch_loss, ACC, AUC))\n",
    "\n",
    "tracker['loss_tr'] = loss_tr\n",
    "tracker['loss_val'] = loss_val\n",
    "tracker['accuracy_tr'] = accuracy_tr\n",
    "tracker['accuracy_val'] = accuracy_val\n",
    "tracker['auc_tr'] = auc_tr\n",
    "tracker['auc_val'] = auc_val\n",
    "        \n",
    "        "
   ]
  },
  {
   "cell_type": "code",
   "execution_count": null,
   "id": "b7d8566d",
   "metadata": {},
   "outputs": [],
   "source": []
  }
 ],
 "metadata": {
  "kernelspec": {
   "display_name": "Python 3",
   "language": "python",
   "name": "python3"
  },
  "language_info": {
   "codemirror_mode": {
    "name": "ipython",
    "version": 3
   },
   "file_extension": ".py",
   "mimetype": "text/x-python",
   "name": "python",
   "nbconvert_exporter": "python",
   "pygments_lexer": "ipython3",
   "version": "3.8.8"
  }
 },
 "nbformat": 4,
 "nbformat_minor": 5
}
