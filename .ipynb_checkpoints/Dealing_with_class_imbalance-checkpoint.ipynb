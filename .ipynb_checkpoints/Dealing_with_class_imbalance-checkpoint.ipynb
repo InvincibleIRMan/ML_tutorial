{
 "cells": [
  {
   "cell_type": "markdown",
   "id": "0661b5d8",
   "metadata": {},
   "source": [
    "# Dealing with class imbalance\n",
    "\n",
    "Class imbalance is a major problem in any __\"real-world\"__ classification task.\n",
    "\n",
    "Assume you are dealing with classifying violence vs non-violence scenarios from video sequences streaming from a security camera, and the task of this camera is to identify __violence__ vs __non-Violence__ scenarios. We all know that \n",
    "$99.9\\%$ of the time, security camera record the \"normal\" (non-violence) scenarios while detecting \"violence\" behavior can be considered as a rare event.\n",
    "\n",
    "Similarly in the medical diagnosis use case for a rare disease, in this case we generally dealing with highly \"imbalance\" samples.\n",
    "\n",
    "In this tutorial you will learn about:\n",
    "    \n",
    "    1. Effect of class imbalance on your model training\n",
    "    2.  Major techniques to deal with the class imbalance:\n",
    "        Oversampling\n",
    "        \n",
    "\n",
    "In this tutorial similar to the provious one we will work with the Malaria Dataset. However, to simulate the class imbalance we extract a subset from the dataset such that the ratio between the positive class \"infected\" and negative class \"uninfected\" is 100/1000 for training and 10/90 for the validation set."
   ]
  },
  {
   "cell_type": "markdown",
   "id": "981307ee",
   "metadata": {},
   "source": [
    "# Steps to establish a machine learning pipeline for this tutorial\n",
    "1. Dataloading and shaping an imbalance dataset\n",
    "2. Torch ready data prepration\n",
    "3. Model definition\n",
    "4. Optimizer and loss definition\n",
    "5. Training and validation"
   ]
  },
  {
   "cell_type": "code",
   "execution_count": 1,
   "id": "d2cfba3d",
   "metadata": {},
   "outputs": [],
   "source": [
    "import torch\n",
    "import os\n",
    "import pandas as pd\n",
    "import numpy as np\n",
    "import seaborn as sns\n",
    "\n",
    "from monai.data import DataLoader, Dataset\n",
    "from torch.utils.data.sampler import WeightedRandomSampler\n",
    "from monai.transforms import (\n",
    "    Compose,\n",
    "    LoadImaged, \n",
    "    AddChanneld, \n",
    "    RandFlipd, \n",
    "    RandRotate90d, \n",
    "    Resized, \n",
    "    EnsureChannelFirstd,\n",
    "    RandGaussianNoised,\n",
    "    ToTensord\n",
    "    )\n",
    "import torch.optim as optim\n",
    "import torch.nn as nn"
   ]
  },
  {
   "cell_type": "markdown",
   "id": "1b78764b",
   "metadata": {},
   "source": [
    "## Dataloading and creating an imbalance dataset"
   ]
  },
  {
   "cell_type": "code",
   "execution_count": 2,
   "id": "a02f07bb",
   "metadata": {},
   "outputs": [
    {
     "name": "stdout",
     "output_type": "stream",
     "text": [
      "number of infected samples is 13780 and number of unifected is 13779\n",
      "number of train samples is 9900 and number of test is 500\n"
     ]
    }
   ],
   "source": [
    "root_dir = '/home/sadegh_mohammadi/data/cell_images/'\n",
    "infected_name = 'Parasitized'\n",
    "uninfected_name = 'Uninfected'\n",
    "df_infected = pd.DataFrame({'image_name':os.listdir(os.path.join(root_dir,infected_name)), \n",
    "                          'folder_name': [infected_name for _ in range(len(os.listdir(os.path.join(root_dir,infected_name))))],\n",
    "                         'label': [1 for _ in range(len(os.listdir(os.path.join(root_dir,infected_name))))]})\n",
    "\n",
    "df_uninfected = pd.DataFrame({'image_name':os.listdir(os.path.join(root_dir,uninfected_name)), \n",
    "                            'folder_name': [uninfected_name for _ in range(len(os.listdir(os.path.join(root_dir,uninfected_name))))],\n",
    "                             'label': [0 for _ in range(len(os.listdir(os.path.join(root_dir,uninfected_name))))]})\n",
    "\n",
    "# select the subset of the data\n",
    "df_infected_sample = df_infected.sample(n=300, random_state=0).reset_index()\n",
    "df_uninfected_sample = df_uninfected.sample(n= 10100, random_state=0).reset_index()\n",
    "\n",
    "# Create the train/test split\n",
    "# train\n",
    "df_infected_train = df_infected_sample.loc[0:49]\n",
    "df_uninfected_train = df_uninfected_sample.loc[0:9849]\n",
    "df_list = [df_infected_train, df_uninfected_train]\n",
    "df_train = pd.concat(df_list).reset_index()\n",
    "# test\n",
    "df_infected_test = df_infected_sample.loc[50:]\n",
    "df_uninfected_test = df_uninfected_sample.loc[9850:]\n",
    "\n",
    "df_list = [df_infected_test, df_uninfected_test]\n",
    "df_val = pd.concat(df_list).reset_index()\n",
    "\n",
    "\n",
    "print('number of infected samples is {} and number of unifected is {}'.format(len(df_infected), len(df_uninfected)))\n",
    "print('number of train samples is {} and number of test is {}'.format(len(df_train), len(df_val)))\n",
    "\n"
   ]
  },
  {
   "cell_type": "code",
   "execution_count": 4,
   "id": "8855cee9",
   "metadata": {},
   "outputs": [
    {
     "data": {
      "text/plain": [
       "9900"
      ]
     },
     "execution_count": 4,
     "metadata": {},
     "output_type": "execute_result"
    }
   ],
   "source": [
    "len(df_train)"
   ]
  },
  {
   "cell_type": "markdown",
   "id": "5139f596",
   "metadata": {},
   "source": [
    "### Distribution of training set tolist"
   ]
  },
  {
   "cell_type": "code",
   "execution_count": 5,
   "id": "05856053",
   "metadata": {},
   "outputs": [
    {
     "name": "stdout",
     "output_type": "stream",
     "text": [
      "50 9850\n"
     ]
    },
    {
     "data": {
      "image/png": "[encoded data removed]",
      "text/plain": [
       "<Figure size 432x288 with 1 Axes>"
      ]
     },
     "metadata": {
      "needs_background": "light"
     },
     "output_type": "display_data"
    }
   ],
   "source": [
    "num_infected = len(df_train[df_train['label'] == 1])\n",
    "num_uninfected = len(df_train[df_train['label'] == 0])\n",
    "df_num = pd.DataFrame({'cell status':['infected','unifected'], 'distribution':[num_infected, num_uninfected]}, columns=['cell status', 'distribution'])\n",
    "print(num_infected, num_uninfected)\n",
    "ax = sns.barplot(x=\"cell status\", y=\"distribution\", data=df_num)"
   ]
  },
  {
   "cell_type": "markdown",
   "id": "fcba40ef",
   "metadata": {},
   "source": [
    "### Weight computation, for oversampling and also penalization"
   ]
  },
  {
   "cell_type": "code",
   "execution_count": 6,
   "id": "51a051e1",
   "metadata": {},
   "outputs": [],
   "source": [
    "target = df_train['label'].to_numpy()\n",
    "class_sample_count = np.array(\n",
    "    [len(np.where(target == t)[0]) for t in np.unique(target)])\n",
    "weight = 1. / class_sample_count\n",
    "samples_weight = np.array([weight[t] for t in target])\n",
    "samples_weight = torch.from_numpy(samples_weight)\n",
    "samples_weigth = samples_weight.double()\n",
    "sampler = WeightedRandomSampler(samples_weight, len(samples_weight))"
   ]
  },
  {
   "cell_type": "markdown",
   "id": "82e53842",
   "metadata": {},
   "source": [
    "## Helper function to shape the training and validation set in an acceptable Monai format"
   ]
  },
  {
   "cell_type": "code",
   "execution_count": 7,
   "id": "61704b1a",
   "metadata": {},
   "outputs": [],
   "source": [
    "def list2dict(df):\n",
    "    data_dict = {}\n",
    "    list_of_dict = []\n",
    "    for i in range(0,len(df)):\n",
    "        #data_dict['image'] = os.path.join(root_dir,df.iloc[i,1],df.iloc[i,0])\n",
    "        data_dict['image'] = os.path.join(root_dir,df['folder_name'][i],df['image_name'][i])\n",
    "        data_dict['label'] = df['label'][i]\n",
    "        list_of_dict.append(data_dict.copy())\n",
    "    return list_of_dict\n",
    "data_train = list2dict(df_train)\n",
    "data_val = list2dict(df_val)"
   ]
  },
  {
   "cell_type": "code",
   "execution_count": null,
   "id": "7c8c86de",
   "metadata": {},
   "outputs": [],
   "source": []
  },
  {
   "cell_type": "markdown",
   "id": "9aa4463b",
   "metadata": {},
   "source": [
    "### Torch ready transformation, Monai plugin"
   ]
  },
  {
   "cell_type": "code",
   "execution_count": 8,
   "id": "c9293436",
   "metadata": {},
   "outputs": [],
   "source": [
    "\n",
    "\n",
    "train_transforms = Compose(\n",
    "    [\n",
    "        LoadImaged(keys=[\"image\"]),\n",
    "        EnsureChannelFirstd(keys=[\"image\"]),\n",
    "        Resized(keys=[\"image\"],spatial_size=(224,224)),\n",
    "        RandFlipd(keys=[\"image\"], prob=0.5),\n",
    "        RandRotate90d(keys=[\"image\"], prob=0.5),\n",
    "        RandGaussianNoised(keys=[\"image\"], prob=0.2),\n",
    "        ToTensord(keys=[\"image\"])\n",
    "])\n",
    "\n",
    "val_transforms = Compose(\n",
    "    [\n",
    "        LoadImaged(keys=[\"image\"]),\n",
    "        EnsureChannelFirstd(keys=[\"image\"]),\n",
    "        Resized(keys=[\"image\"],spatial_size=(224,224)),\n",
    "        ToTensord(keys=[\"image\"])\n",
    "])\n",
    "\n"
   ]
  },
  {
   "cell_type": "markdown",
   "id": "1fc1fbf3",
   "metadata": {},
   "source": [
    "### Dataloader"
   ]
  },
  {
   "cell_type": "code",
   "execution_count": 16,
   "id": "a7344d87",
   "metadata": {},
   "outputs": [
    {
     "data": {
      "text/plain": [
       "(9900, 500)"
      ]
     },
     "execution_count": 16,
     "metadata": {},
     "output_type": "execute_result"
    }
   ],
   "source": [
    "oversampling = True\n",
    "\n",
    "ds_tr = Dataset(data=data_train,transform= train_transforms) # create dataset\n",
    "device = torch.device(\"cuda\" if torch.cuda.is_available() else \"cpu\")\n",
    "kwargs = {'num_workers': 1, 'pin_memory': True} if device == 'cuda' else {}\n",
    "if oversampling == True:\n",
    "    ds_tr_loader = DataLoader(ds_tr, batch_size=100, sampler =sampler,**kwargs)\n",
    "else:\n",
    "    ds_tr_loader = DataLoader(ds_tr, batch_size=100, shuffle = True, **kwargs)\n",
    "\n",
    "ds_val = Dataset(data=data_val,transform= val_transforms) # create dataset\n",
    "ds_val_loader = DataLoader(ds_val, batch_size=len(ds_val),shuffle = True, **kwargs)\n",
    "\n",
    "len(ds_tr), len(ds_val) "
   ]
  },
  {
   "cell_type": "code",
   "execution_count": 10,
   "id": "104a61b7",
   "metadata": {},
   "outputs": [
    {
     "name": "stdout",
     "output_type": "stream",
     "text": [
      "batch index 0, 0/1: 47/53\n",
      "batch index 1, 0/1: 56/44\n",
      "batch index 2, 0/1: 48/52\n"
     ]
    },
    {
     "ename": "KeyboardInterrupt",
     "evalue": "",
     "output_type": "error",
     "traceback": [
      "\u001b[0;31m---------------------------------------------------------------------------\u001b[0m",
      "\u001b[0;31mKeyboardInterrupt\u001b[0m                         Traceback (most recent call last)",
      "\u001b[0;32m<ipython-input-10-980d9aa01202>\u001b[0m in \u001b[0;36m<module>\u001b[0;34m\u001b[0m\n\u001b[0;32m----> 1\u001b[0;31m \u001b[0;32mfor\u001b[0m \u001b[0mi\u001b[0m\u001b[0;34m,\u001b[0m \u001b[0mbatch\u001b[0m \u001b[0;32min\u001b[0m \u001b[0menumerate\u001b[0m\u001b[0;34m(\u001b[0m\u001b[0mds_tr_loader\u001b[0m\u001b[0;34m)\u001b[0m\u001b[0;34m:\u001b[0m\u001b[0;34m\u001b[0m\u001b[0;34m\u001b[0m\u001b[0m\n\u001b[0m\u001b[1;32m      2\u001b[0m     \u001b[0mtarget\u001b[0m \u001b[0;34m=\u001b[0m \u001b[0mbatch\u001b[0m\u001b[0;34m[\u001b[0m\u001b[0;34m'label'\u001b[0m\u001b[0;34m]\u001b[0m\u001b[0;34m\u001b[0m\u001b[0;34m\u001b[0m\u001b[0m\n\u001b[1;32m      3\u001b[0m     print (\"batch index {}, 0/1: {}/{}\".format(\n\u001b[1;32m      4\u001b[0m         \u001b[0mi\u001b[0m\u001b[0;34m,\u001b[0m\u001b[0;34m\u001b[0m\u001b[0;34m\u001b[0m\u001b[0m\n\u001b[1;32m      5\u001b[0m         \u001b[0mlen\u001b[0m\u001b[0;34m(\u001b[0m\u001b[0mnp\u001b[0m\u001b[0;34m.\u001b[0m\u001b[0mwhere\u001b[0m\u001b[0;34m(\u001b[0m\u001b[0mtarget\u001b[0m\u001b[0;34m.\u001b[0m\u001b[0mnumpy\u001b[0m\u001b[0;34m(\u001b[0m\u001b[0;34m)\u001b[0m \u001b[0;34m==\u001b[0m \u001b[0;36m0\u001b[0m\u001b[0;34m)\u001b[0m\u001b[0;34m[\u001b[0m\u001b[0;36m0\u001b[0m\u001b[0;34m]\u001b[0m\u001b[0;34m)\u001b[0m\u001b[0;34m,\u001b[0m\u001b[0;34m\u001b[0m\u001b[0;34m\u001b[0m\u001b[0m\n",
      "\u001b[0;31mKeyboardInterrupt\u001b[0m: "
     ]
    }
   ],
   "source": [
    "for i, batch in enumerate(ds_tr_loader):\n",
    "    target = batch['label']\n",
    "    print (\"batch index {}, 0/1: {}/{}\".format(\n",
    "        i,\n",
    "        len(np.where(target.numpy() == 0)[0]),\n",
    "        len(np.where(target.numpy() == 1)[0])))"
   ]
  },
  {
   "cell_type": "markdown",
   "id": "74fc0675",
   "metadata": {},
   "source": [
    "# Define model, we use Resnet 50 for this purpose!"
   ]
  },
  {
   "cell_type": "code",
   "execution_count": 17,
   "id": "52417322",
   "metadata": {},
   "outputs": [
    {
     "name": "stdout",
     "output_type": "stream",
     "text": [
      "\n"
     ]
    }
   ],
   "source": [
    "from torchvision import datasets, models\n",
    "#net = torch.hub.load('pytorch/vision:v0.9.0', 'resnet50', pretrained=True)\n",
    "net = models.resnet18(pretrained=True)\n",
    "#net.fc = nn.Linear(in_features=2048, out_features=2) # only last year needed to be replace\n",
    "#net.to(device)\n",
    "num_ftrs = net.fc.in_features\n",
    "# Here the size of each output sample is set to 2.\n",
    "# Alternatively, it can be generalized to nn.Linear(num_ftrs, len(class_names)).\n",
    "net.fc = nn.Linear(num_ftrs, 2)\n",
    "net.to(device)\n",
    "\n",
    "print()"
   ]
  },
  {
   "cell_type": "markdown",
   "id": "6d7f2d73",
   "metadata": {},
   "source": [
    "## Define Optimizer and loss function"
   ]
  },
  {
   "cell_type": "code",
   "execution_count": 18,
   "id": "d3809e82",
   "metadata": {},
   "outputs": [],
   "source": [
    "optimizer = optim.Adam(net.parameters(), lr = 0.001)\n",
    "#penalization = False\n",
    "#if penalization == True:\n",
    " #   penalization_weight = np.min(class_sample_count)/class_sample_count  #  Weight of class C is the size of smallest class divided by the size of class C, Alternatively you can divide the size of the largest class and divide them in the class C\n",
    "  #  penalization_weight = (torch.from_numpy(penalization_weight).float()).to(device)\n",
    "   # criterion = nn.CrossEntropyLoss(penalization_weight)\n",
    "#else:\n",
    "criterion = nn.CrossEntropyLoss()"
   ]
  },
  {
   "cell_type": "markdown",
   "id": "4da24538",
   "metadata": {},
   "source": [
    "# training/validation"
   ]
  },
  {
   "cell_type": "code",
   "execution_count": null,
   "id": "a46837ba",
   "metadata": {},
   "outputs": [],
   "source": [
    "\n",
    "from sklearn.metrics import accuracy_score, confusion_matrix, roc_curve, auc\n",
    "\n",
    "\n",
    "\n",
    "tracker = dict()\n",
    "accuracy_tr = list()\n",
    "loss_tr = list()\n",
    "accuracy_val = list()\n",
    "loss_val = list()\n",
    "auc_tr = list()\n",
    "auc_val = list()\n",
    "conf_tr = list()\n",
    "conf_te = list()\n",
    "\n",
    "epochs = 5\n",
    "for epoch in range(epochs):\n",
    "    pred_iter = list()\n",
    "    target_iter = list()\n",
    "    accuracy_tr_iter = list()\n",
    "    running_loss_tr = 0\n",
    "    total_data_tr = 0\n",
    "    running_loss_te = 0\n",
    "    total_data_te = 0\n",
    "    net.train()\n",
    "    for i, batch in enumerate(ds_tr_loader):\n",
    "        data = batch['image'].to(device)\n",
    "        target = batch['label'].to(device)\n",
    "        outputs = net(data)\n",
    "        _,preds = torch.max(outputs,1)\n",
    "        optimizer.zero_grad()\n",
    "        loss = criterion(outputs, target)\n",
    "        #print (\"batch index {}, 0/1: {}/{}\".format(\n",
    "        #i,\n",
    "        #len(np.where(target.cpu().numpy() == 0)[0]),\n",
    "        #len(np.where(target.cpu().numpy() == 1)[0])))\n",
    "\n",
    "        loss.backward()\n",
    "        optimizer.step()\n",
    "        \n",
    "        pred_iter.extend(preds.detach().cpu().numpy())\n",
    "        target_iter.extend(target.detach().cpu().numpy())\n",
    "        running_loss_tr += loss.item() * data.size(0)\n",
    "        total_data_tr += data.size(0)\n",
    "        loss.detach()\n",
    "    \n",
    "    epoch_loss = running_loss_tr / total_data_tr\n",
    "    loss_tr.append(epoch_loss)\n",
    "    \n",
    "    fpr, tpr, thresholds = roc_curve(target_iter, pred_iter)\n",
    "    AUC = auc(fpr, tpr)\n",
    "    ACC = accuracy_score(target_iter,pred_iter)\n",
    "    conf_tr.append(confusion_matrix(target_iter,pred_iter))\n",
    "    auc_tr.append(AUC)\n",
    "    accuracy_tr.append(ACC)\n",
    "    \n",
    "    \n",
    "    print('training Phase: epoch: {} Loss: {:.4f} Acc: {:.4f} AUC: {:.4f}'.format(\n",
    "                epoch , epoch_loss, ACC, AUC))\n",
    "    \n",
    "    net.eval()\n",
    "    with torch.no_grad():\n",
    "        for i, batch in enumerate(ds_val_loader):\n",
    "            data = batch['image'].to(device)\n",
    "            target = batch['label'].to(device)\n",
    "            outputs = net(data)\n",
    "            _,preds = torch.max(outputs,1)\n",
    "            #loss = criterion(outputs, target)\n",
    "\n",
    "            #running_loss_te += loss.item() * data.size(0)\n",
    "            #total_data_te += data.size(0)\n",
    "        #epoch_loss = running_loss_te / total_data_te\n",
    "        #loss_val.append(epoch_loss)\n",
    "\n",
    "        fpr, tpr, thresholds = roc_curve(target.detach().cpu().numpy(), preds.detach().cpu().numpy())\n",
    "        AUC = auc(fpr, tpr)\n",
    "        ACC = accuracy_score(target.detach().cpu().numpy(), preds.detach().cpu().numpy())\n",
    "        auc_val.append(AUC)\n",
    "        accuracy_val.append(ACC)\n",
    "        conf_te.append(confusion_matrix(target.detach().cpu().numpy(), preds.detach().cpu().numpy()))\n",
    "        print('validation Phase: epoch: {} Loss: {:.2f} Acc: {:.2f} AUC: {:.2f}'.format(\n",
    "                        epoch , epoch_loss, ACC, AUC))\n",
    "\n",
    "tracker['loss_tr'] = loss_tr\n",
    "tracker['loss_val'] = loss_val\n",
    "tracker['accuracy_tr'] = accuracy_tr\n",
    "tracker['accuracy_val'] = accuracy_val\n",
    "tracker['auc_tr'] = auc_tr\n",
    "tracker['auc_val'] = auc_val\n",
    "tracker['conf_tr'] = conf_tr\n",
    "tracker['conf_te'] = conf_te\n",
    "\n",
    "import pickle\n",
    "\n",
    "with open('tracker_No_oversampling.pickle', 'wb') as f:\n",
    "    pickle.dump(tracker,f)"
   ]
  },
  {
   "cell_type": "code",
   "execution_count": null,
   "id": "497ab189",
   "metadata": {},
   "outputs": [],
   "source": []
  },
  {
   "cell_type": "code",
   "execution_count": null,
   "id": "c299e2ff",
   "metadata": {},
   "outputs": [],
   "source": []
  },
  {
   "cell_type": "code",
   "execution_count": 22,
   "id": "6a41b019",
   "metadata": {},
   "outputs": [
    {
     "name": "stdout",
     "output_type": "stream",
     "text": [
      "Automatically created module for IPython interactive environment\n",
      "Confusion matrix, without normalization\n",
      "Confusion matrix, without normalization\n"
     ]
    },
    {
     "data": {
      "text/plain": [
       "<Figure size 432x288 with 0 Axes>"
      ]
     },
     "metadata": {},
     "output_type": "display_data"
    },
    {
     "data": {
      "image/png": "[encoded data removed]",
      "text/plain": [
       "<Figure size 576x576 with 2 Axes>"
      ]
     },
     "metadata": {
      "needs_background": "light"
     },
     "output_type": "display_data"
    },
    {
     "data": {
      "text/plain": [
       "<Figure size 432x288 with 0 Axes>"
      ]
     },
     "metadata": {},
     "output_type": "display_data"
    },
    {
     "data": {
      "image/png": "[encoded data removed]",
      "text/plain": [
       "<Figure size 576x576 with 2 Axes>"
      ]
     },
     "metadata": {
      "needs_background": "light"
     },
     "output_type": "display_data"
    }
   ],
   "source": [
    "print(__doc__)\n",
    "\n",
    "import itertools\n",
    "import numpy as np\n",
    "import matplotlib.pyplot as plt\n",
    "\n",
    "from sklearn.metrics import confusion_matrix\n",
    "\n",
    "class_names = ['uninfected', 'infected']\n",
    "\n",
    "def plot_confusion_matrix(cm, classes,\n",
    "                          normalize=False,\n",
    "                          title='Confusion matrix',\n",
    "                          cmap=plt.cm.Blues):\n",
    "    \"\"\"\n",
    "    This function prints and plots the confusion matrix.\n",
    "    Normalization can be applied by setting `normalize=True`.\n",
    "    \n",
    "    \"\"\"\n",
    "    plt.figure(figsize=(8,8))\n",
    "    plt.imshow(cm, interpolation='nearest', cmap=cmap)\n",
    "    plt.title(title)\n",
    "    plt.colorbar()\n",
    "    tick_marks = np.arange(len(classes))\n",
    "    plt.xticks(tick_marks, classes, rotation=45)\n",
    "    plt.yticks(tick_marks, classes)\n",
    "\n",
    "    if normalize:\n",
    "        cm = cm.astype('float') / cm.sum(axis=1)[:, np.newaxis]\n",
    "        cm = np.around(cm,2)\n",
    "        print(\"Normalized confusion matrix\")\n",
    "    else:\n",
    "        print('Confusion matrix, without normalization')\n",
    "\n",
    "    \n",
    "\n",
    "    thresh = cm.max() / 2.\n",
    "    for i, j in itertools.product(range(cm.shape[0]), range(cm.shape[1])):\n",
    "        plt.text(j, i, cm[i, j],\n",
    "                 horizontalalignment=\"center\",\n",
    "                 color=\"white\" if cm[i, j] > thresh else \"black\")\n",
    "\n",
    "    plt.tight_layout()\n",
    "    plt.ylabel('True label')\n",
    "    plt.xlabel('Predicted label')\n",
    "\n",
    "# Compute confusion matrix\n",
    "#cnf_matrix = confusion_matrix(y_test, y_pred)\n",
    "#cnf_matrix = best_conf.mean(2)\n",
    "np.set_printoptions(precision=2)\n",
    "\n",
    "# Plot non-normalized confusion matrix\n",
    "plt.figure()\n",
    "plot_confusion_matrix(tracker_no_oversampling['conf_te'][1], classes=class_names,\n",
    "                      title='Confusion matrix, without normalization')\n",
    "\n",
    "# Plot normalized confusion matrix\n",
    "plt.figure()\n",
    "plot_confusion_matrix(tracker['conf_te'][1], classes=class_names, normalize=False,\n",
    "                      title='Normalized confusion matrix')\n",
    "\n",
    "plt.show()"
   ]
  },
  {
   "cell_type": "code",
   "execution_count": null,
   "id": "b90042c3",
   "metadata": {},
   "outputs": [],
   "source": []
  },
  {
   "cell_type": "code",
   "execution_count": null,
   "id": "60270e7d",
   "metadata": {},
   "outputs": [],
   "source": []
  }
 ],
 "metadata": {
  "kernelspec": {
   "display_name": "Python 3",
   "language": "python",
   "name": "python3"
  },
  "language_info": {
   "codemirror_mode": {
    "name": "ipython",
    "version": 3
   },
   "file_extension": ".py",
   "mimetype": "text/x-python",
   "name": "python",
   "nbconvert_exporter": "python",
   "pygments_lexer": "ipython3",
   "version": "3.8.8"
  }
 },
 "nbformat": 4,
 "nbformat_minor": 5
}
