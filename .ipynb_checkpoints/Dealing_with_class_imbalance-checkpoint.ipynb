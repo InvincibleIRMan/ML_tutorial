{
 "cells": [
  {
   "cell_type": "markdown",
   "id": "1784729b",
   "metadata": {},
   "source": [
    "# Dealing with class imbalance\n",
    "\n",
    "Class imbalance is a major problem in any __\"real-world\"__ classification task.\n",
    "\n",
    "Assume you are dealing with classifying violence vs non-violence scenarios from video sequences streaming from a security camera, and the task of this camera is to identify __violence__ vs __non-Violence__ scenarios. We all know that \n",
    "$99.9\\%$ of the time, security camera record the \"normal\" (non-violence) scenarios while detecting \"violence\" behavior can be considered as a rare event.\n",
    "\n",
    "Similarly in the medical diagnosis use case for a rare disease, in this case we generally dealing with highly \"imbalance\" samples.\n",
    "\n",
    "In this tutorial you will learn about:\n",
    "    \n",
    "    1. Effect of class imbalance on your model training\n",
    "    2. Two major techniques to deal with the class imbalance:\n",
    "        a. Oversampling\n",
    "        b. Penalization\n",
    "        c. Oversampling + Penalization\n",
    "    3. Metrics to effectly monitor your training procedure.\n",
    "\n",
    "In this tutorial similar to the provious one we will work with the Malaria Dataset. However, to simulate the class imbalance we extract a subset from the dataset such that the ratio between the positive class \"infected\" and negative class \"uninfected\" is 100/1000 for training and 10/90 for the validation set."
   ]
  },
  {
   "cell_type": "markdown",
   "id": "3d12551c",
   "metadata": {},
   "source": [
    "# Steps to establish a machine learning pipeline for this tutorial\n",
    "1. Dataloading and shaping an imbalance dataset\n",
    "2. Torch ready data prepration\n",
    "3. Model definition\n",
    "4. Optimizer and loss definition\n",
    "5. Training and validation"
   ]
  },
  {
   "cell_type": "code",
   "execution_count": 2,
   "id": "d5982d8c",
   "metadata": {},
   "outputs": [],
   "source": [
    "import torch\n",
    "import os\n",
    "import pandas as pd\n",
    "import numpy as np\n",
    "\n",
    "\n",
    "from monai.data import DataLoader, Dataset\n",
    "from torch.utils.data.sampler import WeightedRandomSampler\n",
    "from monai.transforms import (\n",
    "    Compose,\n",
    "    LoadImaged, \n",
    "    AddChanneld, \n",
    "    RandFlipd, \n",
    "    RandRotate90d, \n",
    "    Resized, \n",
    "    EnsureChannelFirstd,\n",
    "    RandGaussianNoised,\n",
    "    ToTensord\n",
    "    )\n",
    "import torch.optim as optim\n",
    "import torch.nn as nn"
   ]
  },
  {
   "cell_type": "markdown",
   "id": "4e5c6887",
   "metadata": {},
   "source": [
    "## Dataloading and creating an imbalance dataset"
   ]
  },
  {
   "cell_type": "code",
   "execution_count": 3,
   "id": "e8e51b5d",
   "metadata": {},
   "outputs": [
    {
     "name": "stdout",
     "output_type": "stream",
     "text": [
      "number of infected samples is 13780 and number of unifected is 13780\n",
      "number of train samples is 1000 and number of test is 100\n"
     ]
    }
   ],
   "source": [
    "root_dir = '/Users/sadeghmh/Desktop/Projects/data/cell_images/'\n",
    "infected_name = 'Parasitized'\n",
    "uninfected_name = 'Uninfected'\n",
    "df_infected = pd.DataFrame({'image_name':os.listdir(os.path.join(root_dir,infected_name)), \n",
    "                          'folder_name': [infected_name for _ in range(len(os.listdir(os.path.join(root_dir,infected_name))))],\n",
    "                         'label': [1 for _ in range(len(os.listdir(os.path.join(root_dir,infected_name))))]})\n",
    "\n",
    "df_uninfected = pd.DataFrame({'image_name':os.listdir(os.path.join(root_dir,uninfected_name)), \n",
    "                            'folder_name': [uninfected_name for _ in range(len(os.listdir(os.path.join(root_dir,uninfected_name))))],\n",
    "                             'label': [0 for _ in range(len(os.listdir(os.path.join(root_dir,uninfected_name))))]})\n",
    "\n",
    "# select the subset of the data\n",
    "df_infected_sample = df_infected.sample(n=100, random_state=42).reset_index()\n",
    "df_uninfected_sample = df_uninfected.sample(n= 1000, random_state=42).reset_index()\n",
    "\n",
    "# Create the train/test split\n",
    "# train\n",
    "df_infected_train = df_infected_sample.loc[0:89]\n",
    "df_uninfected_train = df_uninfected_sample.loc[0:909]\n",
    "df_list = [df_infected_train, df_uninfected_train]\n",
    "df_train = pd.concat(df_list).reset_index()\n",
    "# test\n",
    "df_infected_test = df_infected_sample.loc[90:]\n",
    "df_uninfected_test = df_uninfected_sample.loc[910:]\n",
    "\n",
    "df_list = [df_infected_test, df_uninfected_test]\n",
    "df_val = pd.concat(df_list).reset_index()\n",
    "\n",
    "\n",
    "print('number of infected samples is {} and number of unifected is {}'.format(len(df_infected), len(df_uninfected)))\n",
    "print('number of train samples is {} and number of test is {}'.format(len(df_train), len(df_val)))\n",
    "\n"
   ]
  },
  {
   "cell_type": "markdown",
   "id": "a7431005",
   "metadata": {},
   "source": [
    "### Distribution of training set "
   ]
  },
  {
   "cell_type": "code",
   "execution_count": 16,
   "id": "51e54f5e",
   "metadata": {},
   "outputs": [
    {
     "name": "stdout",
     "output_type": "stream",
     "text": [
      "90 910\n"
     ]
    },
    {
     "data": {
      "image/png": "[encoded data removed]",
      "text/plain": [
       "<Figure size 432x288 with 1 Axes>"
      ]
     },
     "metadata": {
      "needs_background": "light"
     },
     "output_type": "display_data"
    }
   ],
   "source": [
    "num_infected = len(df_train[df_train['label'] == 1])\n",
    "num_uninfected = len(df_train[df_train['label'] == 0])\n",
    "df_num = pd.DataFrame({'cell status':['infected','unifected'], 'distribution':[num_infected, num_uninfected]}, columns=['cell status', 'distribution'])\n",
    "print(num_infected, num_uninfected)\n",
    "ax = sns.barplot(x=\"cell status\", y=\"distribution\", data=df_num)"
   ]
  },
  {
   "cell_type": "markdown",
   "id": "2f3b52be",
   "metadata": {},
   "source": [
    "### Weight computation, for oversampling and also penalization"
   ]
  },
  {
   "cell_type": "code",
   "execution_count": 19,
   "id": "5345d83f",
   "metadata": {},
   "outputs": [],
   "source": [
    "target = df_train['label'].to_numpy()\n",
    "class_sample_count = np.array(\n",
    "    [len(np.where(target == t)[0]) for t in np.unique(target)])\n",
    "weight = 1. / class_sample_count\n",
    "samples_weight = np.array([weight[t] for t in target])\n",
    "samples_weight = torch.from_numpy(samples_weight)\n",
    "samples_weigth = samples_weight.double()\n",
    "sampler = WeightedRandomSampler(samples_weight, len(samples_weight))"
   ]
  },
  {
   "cell_type": "code",
   "execution_count": 44,
   "id": "c6ecc90f",
   "metadata": {},
   "outputs": [
    {
     "data": {
      "text/plain": [
       "array([910,  90])"
      ]
     },
     "execution_count": 44,
     "metadata": {},
     "output_type": "execute_result"
    }
   ],
   "source": []
  },
  {
   "cell_type": "markdown",
   "id": "528426e6",
   "metadata": {},
   "source": [
    "## Helper function to shape the training and validation set in an acceptable Monai format"
   ]
  },
  {
   "cell_type": "code",
   "execution_count": 21,
   "id": "c5eed19a",
   "metadata": {},
   "outputs": [],
   "source": [
    "def list2dict(df):\n",
    "    data_dict = {}\n",
    "    list_of_dict = []\n",
    "    for i in range(0,len(df)):\n",
    "        #data_dict['image'] = os.path.join(root_dir,df.iloc[i,1],df.iloc[i,0])\n",
    "        data_dict['image'] = os.path.join(root_dir,df['folder_name'][i],df['image_name'][i])\n",
    "        data_dict['label'] = df['label'][i]\n",
    "        list_of_dict.append(data_dict.copy())\n",
    "    return list_of_dict\n",
    "data_train = list2dict(df_train)\n",
    "data_val = list2dict(df_val)"
   ]
  },
  {
   "cell_type": "code",
   "execution_count": null,
   "id": "12402266",
   "metadata": {},
   "outputs": [],
   "source": []
  },
  {
   "cell_type": "markdown",
   "id": "d7992055",
   "metadata": {},
   "source": [
    "### Torch ready transformation, Monai plugin"
   ]
  },
  {
   "cell_type": "code",
   "execution_count": 22,
   "id": "be44effc",
   "metadata": {},
   "outputs": [],
   "source": [
    "\n",
    "\n",
    "train_transforms = Compose(\n",
    "    [\n",
    "        LoadImaged(keys=[\"image\"]),\n",
    "        EnsureChannelFirstd(keys=[\"image\"]),\n",
    "        Resized(keys=[\"image\"],spatial_size=(224,224)),\n",
    "        RandFlipd(keys=[\"image\"], prob=0.5),\n",
    "        RandRotate90d(keys=[\"image\"], prob=0.5),\n",
    "        RandGaussianNoised(keys=[\"image\"], prob=0.2),\n",
    "        ToTensord(keys=[\"image\"])\n",
    "])\n",
    "\n",
    "val_transforms = Compose(\n",
    "    [\n",
    "        LoadImaged(keys=[\"image\"]),\n",
    "        EnsureChannelFirstd(keys=[\"image\"]),\n",
    "        Resized(keys=[\"image\"],spatial_size=(224,224)),\n",
    "        ToTensord(keys=[\"image\"])\n",
    "])\n",
    "\n"
   ]
  },
  {
   "cell_type": "markdown",
   "id": "4df54c70",
   "metadata": {},
   "source": [
    "### Dataloader"
   ]
  },
  {
   "cell_type": "code",
   "execution_count": 25,
   "id": "a6e25281",
   "metadata": {},
   "outputs": [
    {
     "data": {
      "text/plain": [
       "(1000, 100)"
      ]
     },
     "execution_count": 25,
     "metadata": {},
     "output_type": "execute_result"
    }
   ],
   "source": [
    "oversampling = True\n",
    "\n",
    "ds_tr = Dataset(data=data_train,transform= train_transforms) # create dataset\n",
    "if oversampling == True:\n",
    "    ds_tr_loader = DataLoader(ds_tr, batch_size=100, sampler =sampler)\n",
    "else:\n",
    "    ds_tr_loader = DataLoader(ds_tr, batch_size=100, shuffle = True)\n",
    "\n",
    "ds_val = Dataset(data=data_val,transform= val_transforms) # create dataset\n",
    "ds_val_loader = DataLoader(ds_val, batch_size=100)\n",
    "\n",
    "len(ds_tr), len(ds_val) "
   ]
  },
  {
   "cell_type": "code",
   "execution_count": 26,
   "id": "6bf4262b",
   "metadata": {},
   "outputs": [
    {
     "name": "stdout",
     "output_type": "stream",
     "text": [
      "batch index 0, 0/1: 52/48\n",
      "batch index 1, 0/1: 58/42\n",
      "batch index 2, 0/1: 45/55\n",
      "batch index 3, 0/1: 43/57\n",
      "batch index 4, 0/1: 41/59\n",
      "batch index 5, 0/1: 48/52\n",
      "batch index 6, 0/1: 48/52\n",
      "batch index 7, 0/1: 52/48\n",
      "batch index 8, 0/1: 46/54\n",
      "batch index 9, 0/1: 49/51\n"
     ]
    }
   ],
   "source": [
    "for i, batch in enumerate(ds_tr_loader):\n",
    "    target = batch['label']\n",
    "    print (\"batch index {}, 0/1: {}/{}\".format(\n",
    "        i,\n",
    "        len(np.where(target.numpy() == 0)[0]),\n",
    "        len(np.where(target.numpy() == 1)[0])))"
   ]
  },
  {
   "cell_type": "markdown",
   "id": "cb6b55b7",
   "metadata": {},
   "source": [
    "# Define model, we use Resnet 50 for this purpose!"
   ]
  },
  {
   "cell_type": "code",
   "execution_count": 28,
   "id": "e5026e2d",
   "metadata": {},
   "outputs": [
    {
     "name": "stderr",
     "output_type": "stream",
     "text": [
      "Using cache found in /Users/sadeghmh/.cache/torch/hub/pytorch_vision_v0.9.0\n"
     ]
    },
    {
     "name": "stdout",
     "output_type": "stream",
     "text": [
      "\n"
     ]
    }
   ],
   "source": [
    "net = torch.hub.load('pytorch/vision:v0.9.0', 'resnet50', pretrained=True)\n",
    "net.fc = nn.Linear(in_features=2048, out_features=2) # only last year needed to be replace\n",
    "\n",
    "device = torch.device(\"cuda\" if torch.cuda.is_available() else \"cpu\")\n",
    "net.to(device)\n",
    "print()"
   ]
  },
  {
   "cell_type": "markdown",
   "id": "6f01d500",
   "metadata": {},
   "source": [
    "## Define Optimizer and loss function"
   ]
  },
  {
   "cell_type": "code",
   "execution_count": 47,
   "id": "4219a693",
   "metadata": {},
   "outputs": [],
   "source": [
    "optimizer = optim.Adam(net.parameters(), lr = 0.001)\n",
    "penalization = True\n",
    "if penalization == True:\n",
    "    penalization_weight = np.min(class_sample_count)/class_sample_count  #  Weight of class C is the size of smallest class divided by the size of class C, Alternatively you can divide the size of the largest class and divide them in the class C\n",
    "    penalization_weight = torch.from_numpy(penalization_weight).float()\n",
    "    criterion = nn.CrossEntropyLoss(penalization_weight)\n",
    "else:\n",
    "    criterion = nn.CrossEntropyLoss()"
   ]
  },
  {
   "cell_type": "code",
   "execution_count": 46,
   "id": "cb0b4251",
   "metadata": {},
   "outputs": [
    {
     "data": {
      "text/plain": [
       "(array([910,  90]), array([0.0989011, 1.       ]))"
      ]
     },
     "execution_count": 46,
     "metadata": {},
     "output_type": "execute_result"
    }
   ],
   "source": [
    "class_sample_count,  np.min(class_sample_count)/class_sample_count"
   ]
  },
  {
   "cell_type": "markdown",
   "id": "e9e138d2",
   "metadata": {},
   "source": [
    "# training/validation"
   ]
  },
  {
   "cell_type": "code",
   "execution_count": null,
   "id": "9d565812",
   "metadata": {},
   "outputs": [],
   "source": [
    "\n",
    "from sklearn.metrics import accuracy_score\n",
    "from sklearn.metrics import roc_curve, auc\n",
    "net.train()\n",
    "\n",
    "tracker = dict()\n",
    "accuracy_tr = list()\n",
    "loss_tr = list()\n",
    "accuracy_val = list()\n",
    "loss_val = list()\n",
    "auc_tr = list()\n",
    "auc_val = list()\n",
    "\n",
    "epochs = 10\n",
    "for epoch in range(epochs):\n",
    "    pred_iter = list()\n",
    "    target_iter = list()\n",
    "    accuracy_tr_iter = list()\n",
    "    running_loss_tr = 0\n",
    "    total_data_tr = 0\n",
    "    running_loss_te = 0\n",
    "    total_data_te = 0\n",
    "    for i, batch in enumerate(ds_tr_loader):\n",
    "        data = batch['image'].to(device)\n",
    "        target = batch['label'].to(device)\n",
    "        outputs = net(data)\n",
    "        _,preds = torch.max(outputs,1)\n",
    "        optimizer.zero_grad()\n",
    "        loss = criterion(outputs, target)\n",
    "\n",
    "        loss.backward()\n",
    "        optimizer.step()\n",
    "        \n",
    "        pred_iter.extend(preds.cpu().numpy())\n",
    "        target_iter.extend(target.cpu().numpy())\n",
    "        running_loss_tr += loss.item() * data.size(0)\n",
    "        total_data_tr += data.size(0)\n",
    "    \n",
    "    epoch_loss = running_loss_tr / total_data_tr\n",
    "    loss_tr.append(epoch_loss)\n",
    "    \n",
    "    fpr, tpr, thresholds = roc_curve(target_iter, pred_iter)\n",
    "    AUC = auc(fpr, tpr)\n",
    "    ACC = accuracy_score(target_iter,pred_iter)\n",
    "    auc_tr.append(AUC)\n",
    "    accuracy_tr.append(ACC)\n",
    "    \n",
    "    print('training Phase: epoch: {} Loss: {:.4f} Acc: {:.4f} AUC: {:.4f}'.format(\n",
    "                epoch , epoch_loss, ACC, AUC))\n",
    "    net.eval()\n",
    "    for i, batch in enumerate(ds_val_loader):\n",
    "        data = batch['image'].to(device)\n",
    "        target = batch['label'].to(device)\n",
    "        outputs = net(data)\n",
    "        _,preds = torch.max(outputs,1)\n",
    "        loss = criterion(outputs, target)\n",
    "        \n",
    "        running_loss_te += loss.item() * data.size(0)\n",
    "        total_data_te += data.size(0)\n",
    "    epoch_loss = running_loss_te / total_data_te\n",
    "    loss_val.append(epoch_loss)\n",
    "    \n",
    "    fpr, tpr, thresholds = roc_curve(target.cpu().numpy(), preds.cpu().numpy())\n",
    "    AUC = auc(fpr, tpr)\n",
    "    Acc = accuracy_score(target,preds)\n",
    "    auc_val.append(AUC)\n",
    "    accuracy_val.append(Acc)\n",
    "    print('validation Phase: epoch: {} Loss: {:.2f} Acc: {:.2f} AUC: {:.2f}'.format(\n",
    "                epoch , epoch_loss, ACC, AUC))\n",
    "\n",
    "tracker['loss_tr'] = loss_tr\n",
    "tracker['loss_val'] = loss_val\n",
    "tracker['accuracy_tr'] = accuracy_tr\n",
    "tracker['accuracy_val'] = accuracy_val\n",
    "tracker['auc_tr'] = auc_tr\n",
    "tracker['auc_val'] = auc_val\n",
    "        \n",
    "with open(..., 'rb') as f:\n",
    "    pickle.dump(tracker,f)"
   ]
  },
  {
   "cell_type": "code",
   "execution_count": null,
   "id": "7bad955d",
   "metadata": {},
   "outputs": [],
   "source": []
  }
 ],
 "metadata": {
  "kernelspec": {
   "display_name": "Python 3",
   "language": "python",
   "name": "python3"
  },
  "language_info": {
   "codemirror_mode": {
    "name": "ipython",
    "version": 3
   },
   "file_extension": ".py",
   "mimetype": "text/x-python",
   "name": "python",
   "nbconvert_exporter": "python",
   "pygments_lexer": "ipython3",
   "version": "3.8.8"
  }
 },
 "nbformat": 4,
 "nbformat_minor": 5
}
