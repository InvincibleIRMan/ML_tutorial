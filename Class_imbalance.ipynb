{
 "cells": [
  {
   "cell_type": "markdown",
   "id": "107ae233",
   "metadata": {},
   "source": [
    "# Dealing with class imbalance\n",
    "\n",
    "Class imbalance is a major problem in any __\"real-world\"__ classification task.\n",
    "\n",
    "Assume you are dealing with classifying violence vs non-violence scenarios from video sequences streaming from a security camera, and the task of this camera is to identify __violence__ vs __non-Violence__ scenarios. We all know that \n",
    "$99.9\\%$ of the time, security camera record the \"normal\" (non-violence) scenarios while detecting \"violence\" behavior can be considered as a rare event.\n",
    "\n",
    "Similarly in the medical diagnosis use case for a rare disease, in this case we generally dealing with highly \"imbalance\" samples.\n",
    "\n",
    "In this tutorial you will learn about __Oversampling__ one of the most common approach in dealing with class imbalance problem\n",
    "\n",
    "Requirements:\n",
    "\n",
    "- Pytorch 1.8.1\n",
    "- Monai\n",
    "- Pandas\n",
    "- Seaborn"
   ]
  },
  {
   "cell_type": "markdown",
   "id": "42da6d8b",
   "metadata": {},
   "source": [
    "Steps:\n",
    "    1. Load the dataset to Jupyter env\n",
    "    2. Select a subset from it to simulate the class imbalance\n",
    "    3. "
   ]
  }
 ],
 "metadata": {
  "kernelspec": {
   "display_name": "Python 3",
   "language": "python",
   "name": "python3"
  },
  "language_info": {
   "codemirror_mode": {
    "name": "ipython",
    "version": 3
   },
   "file_extension": ".py",
   "mimetype": "text/x-python",
   "name": "python",
   "nbconvert_exporter": "python",
   "pygments_lexer": "ipython3",
   "version": "3.8.8"
  }
 },
 "nbformat": 4,
 "nbformat_minor": 5
}
